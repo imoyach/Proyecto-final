{
 "cells": [
  {
   "cell_type": "code",
   "execution_count": 1,
   "id": "e707e67c",
   "metadata": {},
   "outputs": [],
   "source": [
    "import numpy as np\n",
    "import pandas as pd\n",
    "import scipy\n",
    "from math import sqrt\n",
    "import matplotlib.pyplot as plt"
   ]
  },
  {
   "cell_type": "code",
   "execution_count": 2,
   "id": "7803b71b",
   "metadata": {},
   "outputs": [],
   "source": [
    "#estimators\n",
    "from sklearn.ensemble import RandomForestRegressor\n",
    "from sklearn. linear_model import LinearRegression\n",
    "from sklearn.svm import SVR"
   ]
  },
  {
   "cell_type": "code",
   "execution_count": 3,
   "id": "adb4e9d1",
   "metadata": {},
   "outputs": [],
   "source": [
    "#model metrics\n",
    "from sklearn.metrics import mean_squared_error\n",
    "from sklearn.metrics import r2_score\n",
    "from sklearn.model_selection import cross_val_score"
   ]
  },
  {
   "cell_type": "code",
   "execution_count": 4,
   "id": "baf6dc06",
   "metadata": {},
   "outputs": [],
   "source": [
    "#cross validation\n",
    "from sklearn.model_selection import train_test_split"
   ]
  },
  {
   "cell_type": "code",
   "execution_count": 5,
   "id": "fb74a522",
   "metadata": {},
   "outputs": [],
   "source": [
    "df = pd.read_csv('clencredit_noind.csv')"
   ]
  },
  {
   "cell_type": "code",
   "execution_count": 6,
   "id": "fdef74f8",
   "metadata": {},
   "outputs": [
    {
     "data": {
      "text/html": [
       "<div>\n",
       "<style scoped>\n",
       "    .dataframe tbody tr th:only-of-type {\n",
       "        vertical-align: middle;\n",
       "    }\n",
       "\n",
       "    .dataframe tbody tr th {\n",
       "        vertical-align: top;\n",
       "    }\n",
       "\n",
       "    .dataframe thead th {\n",
       "        text-align: right;\n",
       "    }\n",
       "</style>\n",
       "<table border=\"1\" class=\"dataframe\">\n",
       "  <thead>\n",
       "    <tr style=\"text-align: right;\">\n",
       "      <th></th>\n",
       "      <th>LIMIT_BAL</th>\n",
       "      <th>AGE</th>\n",
       "      <th>PAY_AMT1</th>\n",
       "      <th>PAY_AMT2</th>\n",
       "      <th>PAY_AMT3</th>\n",
       "      <th>PAY_AMT4</th>\n",
       "      <th>PAY_AMT5</th>\n",
       "      <th>PAY_AMT6</th>\n",
       "      <th>EDUCATION_graduate school</th>\n",
       "      <th>EDUCATION_high school</th>\n",
       "      <th>EDUCATION_other</th>\n",
       "      <th>EDUCATION_university</th>\n",
       "      <th>default payment next month_default</th>\n",
       "      <th>default payment next month_not default</th>\n",
       "    </tr>\n",
       "  </thead>\n",
       "  <tbody>\n",
       "    <tr>\n",
       "      <th>0</th>\n",
       "      <td>20000.0</td>\n",
       "      <td>24.0</td>\n",
       "      <td>0.0</td>\n",
       "      <td>689.0</td>\n",
       "      <td>0.0</td>\n",
       "      <td>0.0</td>\n",
       "      <td>0.0</td>\n",
       "      <td>0.0</td>\n",
       "      <td>0</td>\n",
       "      <td>0</td>\n",
       "      <td>0</td>\n",
       "      <td>1</td>\n",
       "      <td>1</td>\n",
       "      <td>0</td>\n",
       "    </tr>\n",
       "    <tr>\n",
       "      <th>1</th>\n",
       "      <td>120000.0</td>\n",
       "      <td>26.0</td>\n",
       "      <td>0.0</td>\n",
       "      <td>1000.0</td>\n",
       "      <td>1000.0</td>\n",
       "      <td>1000.0</td>\n",
       "      <td>0.0</td>\n",
       "      <td>2000.0</td>\n",
       "      <td>0</td>\n",
       "      <td>0</td>\n",
       "      <td>0</td>\n",
       "      <td>1</td>\n",
       "      <td>1</td>\n",
       "      <td>0</td>\n",
       "    </tr>\n",
       "    <tr>\n",
       "      <th>2</th>\n",
       "      <td>90000.0</td>\n",
       "      <td>34.0</td>\n",
       "      <td>1518.0</td>\n",
       "      <td>1500.0</td>\n",
       "      <td>1000.0</td>\n",
       "      <td>1000.0</td>\n",
       "      <td>1000.0</td>\n",
       "      <td>5000.0</td>\n",
       "      <td>0</td>\n",
       "      <td>0</td>\n",
       "      <td>0</td>\n",
       "      <td>1</td>\n",
       "      <td>0</td>\n",
       "      <td>1</td>\n",
       "    </tr>\n",
       "    <tr>\n",
       "      <th>3</th>\n",
       "      <td>50000.0</td>\n",
       "      <td>37.0</td>\n",
       "      <td>2000.0</td>\n",
       "      <td>2019.0</td>\n",
       "      <td>1200.0</td>\n",
       "      <td>1100.0</td>\n",
       "      <td>1069.0</td>\n",
       "      <td>1000.0</td>\n",
       "      <td>0</td>\n",
       "      <td>0</td>\n",
       "      <td>0</td>\n",
       "      <td>1</td>\n",
       "      <td>0</td>\n",
       "      <td>1</td>\n",
       "    </tr>\n",
       "    <tr>\n",
       "      <th>4</th>\n",
       "      <td>50000.0</td>\n",
       "      <td>57.0</td>\n",
       "      <td>2000.0</td>\n",
       "      <td>36681.0</td>\n",
       "      <td>10000.0</td>\n",
       "      <td>9000.0</td>\n",
       "      <td>689.0</td>\n",
       "      <td>679.0</td>\n",
       "      <td>0</td>\n",
       "      <td>0</td>\n",
       "      <td>0</td>\n",
       "      <td>1</td>\n",
       "      <td>0</td>\n",
       "      <td>1</td>\n",
       "    </tr>\n",
       "  </tbody>\n",
       "</table>\n",
       "</div>"
      ],
      "text/plain": [
       "   LIMIT_BAL   AGE  PAY_AMT1  PAY_AMT2  PAY_AMT3  PAY_AMT4  PAY_AMT5  \\\n",
       "0    20000.0  24.0       0.0     689.0       0.0       0.0       0.0   \n",
       "1   120000.0  26.0       0.0    1000.0    1000.0    1000.0       0.0   \n",
       "2    90000.0  34.0    1518.0    1500.0    1000.0    1000.0    1000.0   \n",
       "3    50000.0  37.0    2000.0    2019.0    1200.0    1100.0    1069.0   \n",
       "4    50000.0  57.0    2000.0   36681.0   10000.0    9000.0     689.0   \n",
       "\n",
       "   PAY_AMT6  EDUCATION_graduate school  EDUCATION_high school  \\\n",
       "0       0.0                          0                      0   \n",
       "1    2000.0                          0                      0   \n",
       "2    5000.0                          0                      0   \n",
       "3    1000.0                          0                      0   \n",
       "4     679.0                          0                      0   \n",
       "\n",
       "   EDUCATION_other  EDUCATION_university  default payment next month_default  \\\n",
       "0                0                     1                                   1   \n",
       "1                0                     1                                   1   \n",
       "2                0                     1                                   0   \n",
       "3                0                     1                                   0   \n",
       "4                0                     1                                   0   \n",
       "\n",
       "   default payment next month_not default  \n",
       "0                                       0  \n",
       "1                                       0  \n",
       "2                                       1  \n",
       "3                                       1  \n",
       "4                                       1  "
      ]
     },
     "execution_count": 6,
     "metadata": {},
     "output_type": "execute_result"
    }
   ],
   "source": [
    "df.head()"
   ]
  },
  {
   "cell_type": "code",
   "execution_count": 7,
   "id": "48a26f01",
   "metadata": {},
   "outputs": [
    {
     "data": {
      "text/plain": [
       "Index(['LIMIT_BAL', 'AGE', 'PAY_AMT1', 'PAY_AMT2', 'PAY_AMT3', 'PAY_AMT4',\n",
       "       'PAY_AMT5', 'PAY_AMT6', 'EDUCATION_graduate school',\n",
       "       'EDUCATION_high school', 'EDUCATION_other', 'EDUCATION_university',\n",
       "       'default payment next month_default',\n",
       "       'default payment next month_not default'],\n",
       "      dtype='object')"
      ]
     },
     "execution_count": 7,
     "metadata": {},
     "output_type": "execute_result"
    }
   ],
   "source": [
    "df.columns"
   ]
  },
  {
   "cell_type": "code",
   "execution_count": 8,
   "id": "30de7e75",
   "metadata": {},
   "outputs": [],
   "source": [
    "y = df['LIMIT_BAL']"
   ]
  },
  {
   "cell_type": "code",
   "execution_count": 9,
   "id": "19c1aa0a",
   "metadata": {},
   "outputs": [
    {
     "name": "stdout",
     "output_type": "stream",
     "text": [
      "0         20000.0\n",
      "1        120000.0\n",
      "2         90000.0\n",
      "3         50000.0\n",
      "4         50000.0\n",
      "           ...   \n",
      "29995    220000.0\n",
      "29996    150000.0\n",
      "29997     30000.0\n",
      "29998     80000.0\n",
      "29999     50000.0\n",
      "Name: LIMIT_BAL, Length: 30000, dtype: float64\n"
     ]
    }
   ],
   "source": [
    "print(y)"
   ]
  },
  {
   "cell_type": "code",
   "execution_count": 10,
   "id": "610d2ab0",
   "metadata": {},
   "outputs": [
    {
     "name": "stdout",
     "output_type": "stream",
     "text": [
      "       default payment next month_not default\n",
      "0                                           0\n",
      "1                                           0\n",
      "2                                           1\n",
      "3                                           1\n",
      "4                                           1\n",
      "...                                       ...\n",
      "29995                                       1\n",
      "29996                                       1\n",
      "29997                                       0\n",
      "29998                                       0\n",
      "29999                                       0\n",
      "\n",
      "[30000 rows x 1 columns]\n"
     ]
    }
   ],
   "source": [
    "x = df[['default payment next month_not default']]\n",
    "print(x)"
   ]
  },
  {
   "cell_type": "code",
   "execution_count": 11,
   "id": "1ac85f19",
   "metadata": {},
   "outputs": [],
   "source": [
    "algosclass = []"
   ]
  },
  {
   "cell_type": "code",
   "execution_count": 12,
   "id": "ab7ed7bd",
   "metadata": {},
   "outputs": [],
   "source": [
    "algosclass.append(('Random Forest Regressor',RandomForestRegressor()))"
   ]
  },
  {
   "cell_type": "code",
   "execution_count": 13,
   "id": "77a49632",
   "metadata": {},
   "outputs": [],
   "source": [
    "algosclass.append(('Linear Regression',LinearRegression()))"
   ]
  },
  {
   "cell_type": "code",
   "execution_count": 14,
   "id": "631580d4",
   "metadata": {},
   "outputs": [],
   "source": [
    "algosclass.append(('Support Vector Regression',SVR()))"
   ]
  },
  {
   "cell_type": "code",
   "execution_count": 15,
   "id": "10d24074",
   "metadata": {},
   "outputs": [],
   "source": [
    "results = []\n",
    "names = []\n",
    "for name, model in algosclass:\n",
    "    result = cross_val_score(model, x, y, cv=3, scoring='r2')\n",
    "    names.append(name)\n",
    "    results.append(result)"
   ]
  },
  {
   "cell_type": "code",
   "execution_count": 16,
   "id": "72cf11e2",
   "metadata": {},
   "outputs": [
    {
     "name": "stdout",
     "output_type": "stream",
     "text": [
      "S 0.018026045835186855\n",
      "u 0.018171799922475123\n",
      "p -0.04909912341520569\n"
     ]
    }
   ],
   "source": [
    "for i in range(len(names)):\n",
    "    print(name[i], results[i].mean())"
   ]
  },
  {
   "cell_type": "code",
   "execution_count": 17,
   "id": "d0c222e9",
   "metadata": {},
   "outputs": [
    {
     "name": "stdout",
     "output_type": "stream",
     "text": [
      "S 0.005291431245198079\n",
      "u 0.005285433928315375\n",
      "p -0.041725354649539005\n"
     ]
    }
   ],
   "source": [
    "y = df['PAY_AMT1']\n",
    "x = df[['default payment next month_not default']]\n",
    "algosclass = []\n",
    "algosclass.append(('Random Forest Regressor',RandomForestRegressor()))\n",
    "algosclass.append(('Linear Regression',LinearRegression()))\n",
    "algosclass.append(('Support Vector Regression',SVR()))\n",
    "results = []\n",
    "names = []\n",
    "for name, model in algosclass:\n",
    "    result = cross_val_score(model, x, y, cv=3, scoring='r2')\n",
    "    names.append(name)\n",
    "    results.append(result)\n",
    "for i in range(len(names)):\n",
    "    print(name[i], results[i].mean())"
   ]
  },
  {
   "cell_type": "code",
   "execution_count": 18,
   "id": "2c82483f",
   "metadata": {},
   "outputs": [
    {
     "name": "stdout",
     "output_type": "stream",
     "text": [
      "S 0.003191267693743819\n",
      "u 0.003175195856504794\n",
      "p -0.02830279278256757\n"
     ]
    }
   ],
   "source": [
    "y = df['PAY_AMT2']\n",
    "x = df[['default payment next month_not default']]\n",
    "algosclass = []\n",
    "algosclass.append(('Random Forest Regressor',RandomForestRegressor()))\n",
    "algosclass.append(('Linear Regression',LinearRegression()))\n",
    "algosclass.append(('Support Vector Regression',SVR()))\n",
    "results = []\n",
    "names = []\n",
    "for name, model in algosclass:\n",
    "    result = cross_val_score(model, x, y, cv=3, scoring='r2')\n",
    "    names.append(name)\n",
    "    results.append(result)\n",
    "for i in range(len(names)):\n",
    "    print(name[i], results[i].mean())"
   ]
  },
  {
   "cell_type": "code",
   "execution_count": 19,
   "id": "ad134e1a",
   "metadata": {},
   "outputs": [
    {
     "name": "stdout",
     "output_type": "stream",
     "text": [
      "S -0.00022445803061491945\n",
      "u -0.00024234571830376397\n",
      "p -0.03710217190665229\n"
     ]
    }
   ],
   "source": [
    "y = df['PAY_AMT3']\n",
    "x = df[['default payment next month_not default']]\n",
    "algosclass = []\n",
    "algosclass.append(('Random Forest Regressor',RandomForestRegressor()))\n",
    "algosclass.append(('Linear Regression',LinearRegression()))\n",
    "algosclass.append(('Support Vector Regression',SVR()))\n",
    "results = []\n",
    "names = []\n",
    "for name, model in algosclass:\n",
    "    result = cross_val_score(model, x, y, cv=3, scoring='r2')\n",
    "    names.append(name)\n",
    "    results.append(result)\n",
    "for i in range(len(names)):\n",
    "    print(name[i], results[i].mean())"
   ]
  },
  {
   "cell_type": "code",
   "execution_count": 20,
   "id": "c14526f4",
   "metadata": {},
   "outputs": [
    {
     "name": "stdout",
     "output_type": "stream",
     "text": [
      "S 0.0030838246835092806\n",
      "u 0.0030983794957969804\n",
      "p -0.043112260513406366\n"
     ]
    }
   ],
   "source": [
    "y = df['PAY_AMT4']\n",
    "x = df[['default payment next month_not default']]\n",
    "algosclass = []\n",
    "algosclass.append(('Random Forest Regressor',RandomForestRegressor()))\n",
    "algosclass.append(('Linear Regression',LinearRegression()))\n",
    "algosclass.append(('Support Vector Regression',SVR()))\n",
    "results = []\n",
    "names = []\n",
    "for name, model in algosclass:\n",
    "    result = cross_val_score(model, x, y, cv=3, scoring='r2')\n",
    "    names.append(name)\n",
    "    results.append(result)\n",
    "for i in range(len(names)):\n",
    "    print(name[i], results[i].mean())"
   ]
  },
  {
   "cell_type": "code",
   "execution_count": 21,
   "id": "218907f3",
   "metadata": {},
   "outputs": [
    {
     "name": "stdout",
     "output_type": "stream",
     "text": [
      "S 0.002864239777092973\n",
      "u 0.0028717034896556712\n",
      "p -0.044163836452373616\n"
     ]
    }
   ],
   "source": [
    "y = df['PAY_AMT5']\n",
    "x = df[['default payment next month_not default']]\n",
    "algosclass = []\n",
    "algosclass.append(('Random Forest Regressor',RandomForestRegressor()))\n",
    "algosclass.append(('Linear Regression',LinearRegression()))\n",
    "algosclass.append(('Support Vector Regression',SVR()))\n",
    "results = []\n",
    "names = []\n",
    "for name, model in algosclass:\n",
    "    result = cross_val_score(model, x, y, cv=3, scoring='r2')\n",
    "    names.append(name)\n",
    "    results.append(result)\n",
    "for i in range(len(names)):\n",
    "    print(name[i], results[i].mean())"
   ]
  },
  {
   "cell_type": "code",
   "execution_count": 22,
   "id": "cf9e680a",
   "metadata": {},
   "outputs": [
    {
     "name": "stdout",
     "output_type": "stream",
     "text": [
      "S 0.0022309773182216017\n",
      "u 0.0022653067618348954\n",
      "p -0.04266947606486782\n"
     ]
    }
   ],
   "source": [
    "y = df['PAY_AMT6']\n",
    "x = df[['default payment next month_not default']]\n",
    "algosclass = []\n",
    "algosclass.append(('Random Forest Regressor',RandomForestRegressor()))\n",
    "algosclass.append(('Linear Regression',LinearRegression()))\n",
    "algosclass.append(('Support Vector Regression',SVR()))\n",
    "results = []\n",
    "names = []\n",
    "for name, model in algosclass:\n",
    "    result = cross_val_score(model, x, y, cv=3, scoring='r2')\n",
    "    names.append(name)\n",
    "    results.append(result)\n",
    "for i in range(len(names)):\n",
    "    print(name[i], results[i].mean())"
   ]
  },
  {
   "cell_type": "code",
   "execution_count": 23,
   "id": "9cb01a5b",
   "metadata": {},
   "outputs": [
    {
     "name": "stdout",
     "output_type": "stream",
     "text": [
      "S 0.0006087637272670365\n",
      "u 0.000603732184376482\n",
      "p -0.280540276557947\n"
     ]
    }
   ],
   "source": [
    "y = df['EDUCATION_graduate school']\n",
    "x = df[['default payment next month_not default']]\n",
    "algosclass = []\n",
    "algosclass.append(('Random Forest Regressor',RandomForestRegressor()))\n",
    "algosclass.append(('Linear Regression',LinearRegression()))\n",
    "algosclass.append(('Support Vector Regression',SVR()))\n",
    "results = []\n",
    "names = []\n",
    "for name, model in algosclass:\n",
    "    result = cross_val_score(model, x, y, cv=3, scoring='r2')\n",
    "    names.append(name)\n",
    "    results.append(result)\n",
    "for i in range(len(names)):\n",
    "    print(name[i], results[i].mean())"
   ]
  },
  {
   "cell_type": "code",
   "execution_count": 24,
   "id": "904968e1",
   "metadata": {},
   "outputs": [
    {
     "name": "stdout",
     "output_type": "stream",
     "text": [
      "S 0.00033737844593854466\n",
      "u 0.0003327460265769207\n",
      "p -0.02993379450511961\n"
     ]
    }
   ],
   "source": [
    "y = df['EDUCATION_high school']\n",
    "x = df[['default payment next month_not default']]\n",
    "algosclass = []\n",
    "algosclass.append(('Random Forest Regressor',RandomForestRegressor()))\n",
    "algosclass.append(('Linear Regression',LinearRegression()))\n",
    "algosclass.append(('Support Vector Regression',SVR()))\n",
    "results = []\n",
    "names = []\n",
    "for name, model in algosclass:\n",
    "    result = cross_val_score(model, x, y, cv=3, scoring='r2')\n",
    "    names.append(name)\n",
    "    results.append(result)\n",
    "for i in range(len(names)):\n",
    "    print(name[i], results[i].mean())"
   ]
  },
  {
   "cell_type": "code",
   "execution_count": 25,
   "id": "1fea3bb8",
   "metadata": {},
   "outputs": [
    {
     "name": "stdout",
     "output_type": "stream",
     "text": [
      "S -0.0013182533945739576\n",
      "u -0.0013677298992059346\n",
      "p -0.5242843564539809\n"
     ]
    }
   ],
   "source": [
    "y = df['EDUCATION_other']\n",
    "x = df[['default payment next month_not default']]\n",
    "algosclass = []\n",
    "algosclass.append(('Random Forest Regressor',RandomForestRegressor()))\n",
    "algosclass.append(('Linear Regression',LinearRegression()))\n",
    "algosclass.append(('Support Vector Regression',SVR()))\n",
    "results = []\n",
    "names = []\n",
    "for name, model in algosclass:\n",
    "    result = cross_val_score(model, x, y, cv=3, scoring='r2')\n",
    "    names.append(name)\n",
    "    results.append(result)\n",
    "for i in range(len(names)):\n",
    "    print(name[i], results[i].mean())"
   ]
  },
  {
   "cell_type": "code",
   "execution_count": 45,
   "id": "35ca995a",
   "metadata": {},
   "outputs": [
    {
     "name": "stdout",
     "output_type": "stream",
     "text": [
      "S -0.0004103886199906907\n",
      "u -0.0004075808220310728\n",
      "p -0.5539402728384933\n"
     ]
    }
   ],
   "source": [
    "y1 = df['EDUCATION_university']\n",
    "x1 = df[['default payment next month_not default']]\n",
    "algosclass = []\n",
    "algosclass.append(('Random Forest Regressor',RandomForestRegressor()))\n",
    "algosclass.append(('Linear Regression',LinearRegression()))\n",
    "algosclass.append(('Support Vector Regression',SVR()))\n",
    "results = []\n",
    "names = []\n",
    "for name, model in algosclass:\n",
    "    result = cross_val_score(model, x1, y1, cv=3, scoring='r2')\n",
    "    names.append(name)\n",
    "    results.append(result)\n",
    "for i in range(len(names)):\n",
    "    print(name[i], results[i].mean())"
   ]
  },
  {
   "cell_type": "code",
   "execution_count": 43,
   "id": "df2bc97a",
   "metadata": {},
   "outputs": [
    {
     "data": {
      "text/plain": [
       "Index(['LIMIT_BAL', 'AGE', 'PAY_AMT1', 'PAY_AMT2', 'PAY_AMT3', 'PAY_AMT4',\n",
       "       'PAY_AMT5', 'PAY_AMT6', 'EDUCATION_graduate school',\n",
       "       'EDUCATION_high school', 'EDUCATION_other', 'EDUCATION_university',\n",
       "       'default payment next month_default',\n",
       "       'default payment next month_not default'],\n",
       "      dtype='object')"
      ]
     },
     "execution_count": 43,
     "metadata": {},
     "output_type": "execute_result"
    }
   ],
   "source": [
    "df.columns"
   ]
  },
  {
   "cell_type": "code",
   "execution_count": 66,
   "id": "26940577",
   "metadata": {},
   "outputs": [],
   "source": [
    "X_train, X_test, Y_train, Y_test = train_test_split(x1, y1)"
   ]
  },
  {
   "cell_type": "code",
   "execution_count": 67,
   "id": "4fe47867",
   "metadata": {},
   "outputs": [],
   "source": [
    "algo = SVR()\n",
    "model = algo.fit (X_train, Y_train)"
   ]
  },
  {
   "cell_type": "code",
   "execution_count": 69,
   "id": "f5dd0189",
   "metadata": {},
   "outputs": [
    {
     "data": {
      "text/html": [
       "<div>\n",
       "<style scoped>\n",
       "    .dataframe tbody tr th:only-of-type {\n",
       "        vertical-align: middle;\n",
       "    }\n",
       "\n",
       "    .dataframe tbody tr th {\n",
       "        vertical-align: top;\n",
       "    }\n",
       "\n",
       "    .dataframe thead th {\n",
       "        text-align: right;\n",
       "    }\n",
       "</style>\n",
       "<table border=\"1\" class=\"dataframe\">\n",
       "  <thead>\n",
       "    <tr style=\"text-align: right;\">\n",
       "      <th></th>\n",
       "      <th>default payment next month_not default</th>\n",
       "    </tr>\n",
       "  </thead>\n",
       "  <tbody>\n",
       "    <tr>\n",
       "      <th>3608</th>\n",
       "      <td>1</td>\n",
       "    </tr>\n",
       "    <tr>\n",
       "      <th>4312</th>\n",
       "      <td>1</td>\n",
       "    </tr>\n",
       "    <tr>\n",
       "      <th>8649</th>\n",
       "      <td>0</td>\n",
       "    </tr>\n",
       "    <tr>\n",
       "      <th>5653</th>\n",
       "      <td>1</td>\n",
       "    </tr>\n",
       "    <tr>\n",
       "      <th>9180</th>\n",
       "      <td>1</td>\n",
       "    </tr>\n",
       "    <tr>\n",
       "      <th>...</th>\n",
       "      <td>...</td>\n",
       "    </tr>\n",
       "    <tr>\n",
       "      <th>6555</th>\n",
       "      <td>1</td>\n",
       "    </tr>\n",
       "    <tr>\n",
       "      <th>29591</th>\n",
       "      <td>1</td>\n",
       "    </tr>\n",
       "    <tr>\n",
       "      <th>1072</th>\n",
       "      <td>1</td>\n",
       "    </tr>\n",
       "    <tr>\n",
       "      <th>13169</th>\n",
       "      <td>1</td>\n",
       "    </tr>\n",
       "    <tr>\n",
       "      <th>29940</th>\n",
       "      <td>1</td>\n",
       "    </tr>\n",
       "  </tbody>\n",
       "</table>\n",
       "<p>22500 rows × 1 columns</p>\n",
       "</div>"
      ],
      "text/plain": [
       "       default payment next month_not default\n",
       "3608                                        1\n",
       "4312                                        1\n",
       "8649                                        0\n",
       "5653                                        1\n",
       "9180                                        1\n",
       "...                                       ...\n",
       "6555                                        1\n",
       "29591                                       1\n",
       "1072                                        1\n",
       "13169                                       1\n",
       "29940                                       1\n",
       "\n",
       "[22500 rows x 1 columns]"
      ]
     },
     "execution_count": 69,
     "metadata": {},
     "output_type": "execute_result"
    }
   ],
   "source": [
    "X_train"
   ]
  },
  {
   "cell_type": "code",
   "execution_count": 70,
   "id": "d5a99d41",
   "metadata": {},
   "outputs": [
    {
     "data": {
      "text/html": [
       "<div>\n",
       "<style scoped>\n",
       "    .dataframe tbody tr th:only-of-type {\n",
       "        vertical-align: middle;\n",
       "    }\n",
       "\n",
       "    .dataframe tbody tr th {\n",
       "        vertical-align: top;\n",
       "    }\n",
       "\n",
       "    .dataframe thead th {\n",
       "        text-align: right;\n",
       "    }\n",
       "</style>\n",
       "<table border=\"1\" class=\"dataframe\">\n",
       "  <thead>\n",
       "    <tr style=\"text-align: right;\">\n",
       "      <th></th>\n",
       "      <th>default payment next month_not default</th>\n",
       "    </tr>\n",
       "  </thead>\n",
       "  <tbody>\n",
       "    <tr>\n",
       "      <th>29739</th>\n",
       "      <td>1</td>\n",
       "    </tr>\n",
       "    <tr>\n",
       "      <th>14710</th>\n",
       "      <td>1</td>\n",
       "    </tr>\n",
       "    <tr>\n",
       "      <th>15314</th>\n",
       "      <td>1</td>\n",
       "    </tr>\n",
       "    <tr>\n",
       "      <th>16706</th>\n",
       "      <td>1</td>\n",
       "    </tr>\n",
       "    <tr>\n",
       "      <th>26997</th>\n",
       "      <td>1</td>\n",
       "    </tr>\n",
       "    <tr>\n",
       "      <th>...</th>\n",
       "      <td>...</td>\n",
       "    </tr>\n",
       "    <tr>\n",
       "      <th>23033</th>\n",
       "      <td>1</td>\n",
       "    </tr>\n",
       "    <tr>\n",
       "      <th>10755</th>\n",
       "      <td>1</td>\n",
       "    </tr>\n",
       "    <tr>\n",
       "      <th>75</th>\n",
       "      <td>1</td>\n",
       "    </tr>\n",
       "    <tr>\n",
       "      <th>16059</th>\n",
       "      <td>0</td>\n",
       "    </tr>\n",
       "    <tr>\n",
       "      <th>4579</th>\n",
       "      <td>0</td>\n",
       "    </tr>\n",
       "  </tbody>\n",
       "</table>\n",
       "<p>7500 rows × 1 columns</p>\n",
       "</div>"
      ],
      "text/plain": [
       "       default payment next month_not default\n",
       "29739                                       1\n",
       "14710                                       1\n",
       "15314                                       1\n",
       "16706                                       1\n",
       "26997                                       1\n",
       "...                                       ...\n",
       "23033                                       1\n",
       "10755                                       1\n",
       "75                                          1\n",
       "16059                                       0\n",
       "4579                                        0\n",
       "\n",
       "[7500 rows x 1 columns]"
      ]
     },
     "execution_count": 70,
     "metadata": {},
     "output_type": "execute_result"
    }
   ],
   "source": [
    "X_test"
   ]
  },
  {
   "cell_type": "code",
   "execution_count": 71,
   "id": "ac747ef8",
   "metadata": {},
   "outputs": [
    {
     "data": {
      "text/plain": [
       "3608     0\n",
       "4312     0\n",
       "8649     0\n",
       "5653     0\n",
       "9180     1\n",
       "        ..\n",
       "6555     0\n",
       "29591    0\n",
       "1072     0\n",
       "13169    0\n",
       "29940    1\n",
       "Name: EDUCATION_university, Length: 22500, dtype: int64"
      ]
     },
     "execution_count": 71,
     "metadata": {},
     "output_type": "execute_result"
    }
   ],
   "source": [
    "Y_train"
   ]
  },
  {
   "cell_type": "code",
   "execution_count": 91,
   "id": "ebe9d64e",
   "metadata": {},
   "outputs": [],
   "source": [
    "predictions= model.predict(X_test)"
   ]
  },
  {
   "cell_type": "code",
   "execution_count": 92,
   "id": "7db953d4",
   "metadata": {},
   "outputs": [],
   "source": [
    "rmse = sqrt (mean_squared_error(Y_test,predictions))"
   ]
  },
  {
   "cell_type": "code",
   "execution_count": 94,
   "id": "8a069bb5",
   "metadata": {},
   "outputs": [],
   "source": [
    "predRsquared = r2_score (Y_test, predictions)"
   ]
  },
  {
   "cell_type": "code",
   "execution_count": 98,
   "id": "1cd5c0ca",
   "metadata": {},
   "outputs": [
    {
     "name": "stdout",
     "output_type": "stream",
     "text": [
      "R Squared: -0.564\n"
     ]
    }
   ],
   "source": [
    "rmse = sqrt(mean_squared_error (Y_test, predictions))\n",
    "print(\"R Squared: %.3f\"% predRsquared)"
   ]
  },
  {
   "cell_type": "code",
   "execution_count": 102,
   "id": "fcd0f545",
   "metadata": {},
   "outputs": [
    {
     "name": "stdout",
     "output_type": "stream",
     "text": [
      "RMSE: 0.624\n"
     ]
    }
   ],
   "source": [
    "print('RMSE: %.3f'% rmse)"
   ]
  },
  {
   "cell_type": "code",
   "execution_count": 111,
   "id": "59367a93",
   "metadata": {},
   "outputs": [
    {
     "data": {
      "image/png": "[encoded data removed]",
      "text/plain": [
       "<Figure size 432x288 with 1 Axes>"
      ]
     },
     "metadata": {
      "needs_background": "light"
     },
     "output_type": "display_data"
    }
   ],
   "source": [
    "plt.scatter(Y_test, predictions, color=['green'], alpha = 1)\n",
    "plt.xlabel ('default payment next month_not default')\n",
    "plt.ylabel('EDUCATION_university')\n",
    "plt.show ()"
   ]
  },
  {
   "cell_type": "code",
   "execution_count": null,
   "id": "4efb53a2",
   "metadata": {},
   "outputs": [],
   "source": []
  }
 ],
 "metadata": {
  "kernelspec": {
   "display_name": "Python 3",
   "language": "python",
   "name": "python3"
  },
  "language_info": {
   "codemirror_mode": {
    "name": "ipython",
    "version": 3
   },
   "file_extension": ".py",
   "mimetype": "text/x-python",
   "name": "python",
   "nbconvert_exporter": "python",
   "pygments_lexer": "ipython3",
   "version": "3.8.8"
  }
 },
 "nbformat": 4,
 "nbformat_minor": 5
}
